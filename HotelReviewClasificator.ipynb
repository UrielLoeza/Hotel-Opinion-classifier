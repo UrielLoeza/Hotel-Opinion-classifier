{
  "cells": [
    {
      "cell_type": "code",
      "execution_count": 30,
      "metadata": {
        "colab": {
          "base_uri": "https://localhost:8080/"
        },
        "id": "jUtihG8h1aEZ",
        "outputId": "66eeccab-6e8a-49fb-c4f0-632f504a28a7"
      },
      "outputs": [
        {
          "output_type": "stream",
          "name": "stdout",
          "text": [
            "Requirement already satisfied: spacy in /usr/local/lib/python3.11/dist-packages (3.8.5)\n",
            "Requirement already satisfied: spacy-legacy<3.1.0,>=3.0.11 in /usr/local/lib/python3.11/dist-packages (from spacy) (3.0.12)\n",
            "Requirement already satisfied: spacy-loggers<2.0.0,>=1.0.0 in /usr/local/lib/python3.11/dist-packages (from spacy) (1.0.5)\n",
            "Requirement already satisfied: murmurhash<1.1.0,>=0.28.0 in /usr/local/lib/python3.11/dist-packages (from spacy) (1.0.12)\n",
            "Requirement already satisfied: cymem<2.1.0,>=2.0.2 in /usr/local/lib/python3.11/dist-packages (from spacy) (2.0.11)\n",
            "Requirement already satisfied: preshed<3.1.0,>=3.0.2 in /usr/local/lib/python3.11/dist-packages (from spacy) (3.0.9)\n",
            "Requirement already satisfied: thinc<8.4.0,>=8.3.4 in /usr/local/lib/python3.11/dist-packages (from spacy) (8.3.6)\n",
            "Requirement already satisfied: wasabi<1.2.0,>=0.9.1 in /usr/local/lib/python3.11/dist-packages (from spacy) (1.1.3)\n",
            "Requirement already satisfied: srsly<3.0.0,>=2.4.3 in /usr/local/lib/python3.11/dist-packages (from spacy) (2.5.1)\n",
            "Requirement already satisfied: catalogue<2.1.0,>=2.0.6 in /usr/local/lib/python3.11/dist-packages (from spacy) (2.0.10)\n",
            "Requirement already satisfied: weasel<0.5.0,>=0.1.0 in /usr/local/lib/python3.11/dist-packages (from spacy) (0.4.1)\n",
            "Requirement already satisfied: typer<1.0.0,>=0.3.0 in /usr/local/lib/python3.11/dist-packages (from spacy) (0.15.3)\n",
            "Requirement already satisfied: tqdm<5.0.0,>=4.38.0 in /usr/local/lib/python3.11/dist-packages (from spacy) (4.67.1)\n",
            "Requirement already satisfied: numpy>=1.19.0 in /usr/local/lib/python3.11/dist-packages (from spacy) (2.0.2)\n",
            "Requirement already satisfied: requests<3.0.0,>=2.13.0 in /usr/local/lib/python3.11/dist-packages (from spacy) (2.32.3)\n",
            "Requirement already satisfied: pydantic!=1.8,!=1.8.1,<3.0.0,>=1.7.4 in /usr/local/lib/python3.11/dist-packages (from spacy) (2.11.4)\n",
            "Requirement already satisfied: jinja2 in /usr/local/lib/python3.11/dist-packages (from spacy) (3.1.6)\n",
            "Requirement already satisfied: setuptools in /usr/local/lib/python3.11/dist-packages (from spacy) (75.2.0)\n",
            "Requirement already satisfied: packaging>=20.0 in /usr/local/lib/python3.11/dist-packages (from spacy) (24.2)\n",
            "Requirement already satisfied: langcodes<4.0.0,>=3.2.0 in /usr/local/lib/python3.11/dist-packages (from spacy) (3.5.0)\n",
            "Requirement already satisfied: language-data>=1.2 in /usr/local/lib/python3.11/dist-packages (from langcodes<4.0.0,>=3.2.0->spacy) (1.3.0)\n",
            "Requirement already satisfied: annotated-types>=0.6.0 in /usr/local/lib/python3.11/dist-packages (from pydantic!=1.8,!=1.8.1,<3.0.0,>=1.7.4->spacy) (0.7.0)\n",
            "Requirement already satisfied: pydantic-core==2.33.2 in /usr/local/lib/python3.11/dist-packages (from pydantic!=1.8,!=1.8.1,<3.0.0,>=1.7.4->spacy) (2.33.2)\n",
            "Requirement already satisfied: typing-extensions>=4.12.2 in /usr/local/lib/python3.11/dist-packages (from pydantic!=1.8,!=1.8.1,<3.0.0,>=1.7.4->spacy) (4.13.2)\n",
            "Requirement already satisfied: typing-inspection>=0.4.0 in /usr/local/lib/python3.11/dist-packages (from pydantic!=1.8,!=1.8.1,<3.0.0,>=1.7.4->spacy) (0.4.0)\n",
            "Requirement already satisfied: charset-normalizer<4,>=2 in /usr/local/lib/python3.11/dist-packages (from requests<3.0.0,>=2.13.0->spacy) (3.4.1)\n",
            "Requirement already satisfied: idna<4,>=2.5 in /usr/local/lib/python3.11/dist-packages (from requests<3.0.0,>=2.13.0->spacy) (3.10)\n",
            "Requirement already satisfied: urllib3<3,>=1.21.1 in /usr/local/lib/python3.11/dist-packages (from requests<3.0.0,>=2.13.0->spacy) (2.4.0)\n",
            "Requirement already satisfied: certifi>=2017.4.17 in /usr/local/lib/python3.11/dist-packages (from requests<3.0.0,>=2.13.0->spacy) (2025.4.26)\n",
            "Requirement already satisfied: blis<1.4.0,>=1.3.0 in /usr/local/lib/python3.11/dist-packages (from thinc<8.4.0,>=8.3.4->spacy) (1.3.0)\n",
            "Requirement already satisfied: confection<1.0.0,>=0.0.1 in /usr/local/lib/python3.11/dist-packages (from thinc<8.4.0,>=8.3.4->spacy) (0.1.5)\n",
            "Requirement already satisfied: click>=8.0.0 in /usr/local/lib/python3.11/dist-packages (from typer<1.0.0,>=0.3.0->spacy) (8.1.8)\n",
            "Requirement already satisfied: shellingham>=1.3.0 in /usr/local/lib/python3.11/dist-packages (from typer<1.0.0,>=0.3.0->spacy) (1.5.4)\n",
            "Requirement already satisfied: rich>=10.11.0 in /usr/local/lib/python3.11/dist-packages (from typer<1.0.0,>=0.3.0->spacy) (13.9.4)\n",
            "Requirement already satisfied: cloudpathlib<1.0.0,>=0.7.0 in /usr/local/lib/python3.11/dist-packages (from weasel<0.5.0,>=0.1.0->spacy) (0.21.0)\n",
            "Requirement already satisfied: smart-open<8.0.0,>=5.2.1 in /usr/local/lib/python3.11/dist-packages (from weasel<0.5.0,>=0.1.0->spacy) (7.1.0)\n",
            "Requirement already satisfied: MarkupSafe>=2.0 in /usr/local/lib/python3.11/dist-packages (from jinja2->spacy) (3.0.2)\n",
            "Requirement already satisfied: marisa-trie>=1.1.0 in /usr/local/lib/python3.11/dist-packages (from language-data>=1.2->langcodes<4.0.0,>=3.2.0->spacy) (1.2.1)\n",
            "Requirement already satisfied: markdown-it-py>=2.2.0 in /usr/local/lib/python3.11/dist-packages (from rich>=10.11.0->typer<1.0.0,>=0.3.0->spacy) (3.0.0)\n",
            "Requirement already satisfied: pygments<3.0.0,>=2.13.0 in /usr/local/lib/python3.11/dist-packages (from rich>=10.11.0->typer<1.0.0,>=0.3.0->spacy) (2.19.1)\n",
            "Requirement already satisfied: wrapt in /usr/local/lib/python3.11/dist-packages (from smart-open<8.0.0,>=5.2.1->weasel<0.5.0,>=0.1.0->spacy) (1.17.2)\n",
            "Requirement already satisfied: mdurl~=0.1 in /usr/local/lib/python3.11/dist-packages (from markdown-it-py>=2.2.0->rich>=10.11.0->typer<1.0.0,>=0.3.0->spacy) (0.1.2)\n",
            "Collecting es-core-news-sm==3.8.0\n",
            "  Downloading https://github.com/explosion/spacy-models/releases/download/es_core_news_sm-3.8.0/es_core_news_sm-3.8.0-py3-none-any.whl (12.9 MB)\n",
            "\u001b[2K     \u001b[90m━━━━━━━━━━━━━━━━━━━━━━━━━━━━━━━━━━━━━━━━\u001b[0m \u001b[32m12.9/12.9 MB\u001b[0m \u001b[31m69.0 MB/s\u001b[0m eta \u001b[36m0:00:00\u001b[0m\n",
            "\u001b[?25h\u001b[38;5;2m✔ Download and installation successful\u001b[0m\n",
            "You can now load the package via spacy.load('es_core_news_sm')\n",
            "\u001b[38;5;3m⚠ Restart to reload dependencies\u001b[0m\n",
            "If you are in a Jupyter or Colab notebook, you may need to restart Python in\n",
            "order to load all the package's dependencies. You can do this by selecting the\n",
            "'Restart kernel' or 'Restart runtime' option.\n",
            "Requirement already satisfied: langdetect in /usr/local/lib/python3.11/dist-packages (1.0.9)\n",
            "Requirement already satisfied: six in /usr/local/lib/python3.11/dist-packages (from langdetect) (1.17.0)\n"
          ]
        }
      ],
      "source": [
        "!pip install spacy\n",
        "!python -m spacy download es_core_news_sm\n",
        "!pip install langdetect\n"
      ]
    },
    {
      "cell_type": "markdown",
      "metadata": {
        "id": "rtiSW7B018JK"
      },
      "source": [
        "##Dataframe visualization"
      ]
    },
    {
      "cell_type": "code",
      "execution_count": 31,
      "metadata": {
        "colab": {
          "base_uri": "https://localhost:8080/"
        },
        "id": "vovKo_F6194Q",
        "outputId": "77249668-ffea-40da-bd9b-55d382d96d7c"
      },
      "outputs": [
        {
          "output_type": "stream",
          "name": "stdout",
          "text": [
            "                                      title  rating  \\\n",
            "0                       IMPOSIBLE DESCANSAR       2   \n",
            "1              No es oro todo lo que reluce       3   \n",
            "2            Un buen hotel con mucho ruido.       3   \n",
            "3      SIN CALEFACCIÓN OPERATIVA Y CON FRÍO       2   \n",
            "4                 Deja bastante que desear.       2   \n",
            "5                    Desastre de ascensores       2   \n",
            "6                             Mal mal y mal       2   \n",
            "7                      Suciedad intolerable       1   \n",
            "8                                Lamentable       1   \n",
            "9  Sigo aquí pero quiero cambiarme de hotel       2   \n",
            "\n",
            "                                         review_text  \n",
            "0  El fin de semana mi pareja y yo hicimos una re...  \n",
            "1  El hotel en general está bien, las habtiacione...  \n",
            "2  El hotel es moderno, amplio y limpio, pero no ...  \n",
            "3  Calefacción averiada o no operativa. Se coment...  \n",
            "4  Este hotel ha bajado notoriamente su categoria...  \n",
            "5  Son pequeños, se bloquean y son insuficientes ...  \n",
            "6  Mal mal y mal. Una enorme diferencia de trato ...  \n",
            "7  Jamás me he encontrado un nivel de suciedad co...  \n",
            "8  Lamentable elegir un hotel de cuatro estrellas...  \n",
            "9  El hotel fantástico. Los desayunos  muy buenos...  \n",
            "(7615, 3)\n"
          ]
        }
      ],
      "source": [
        "import pandas as pd\n",
        "df = pd.read_csv('Balanced_AHR.csv', usecols=['title', 'rating', 'review_text'])\n",
        "print(df.head(10))\n",
        "print(df.shape)"
      ]
    },
    {
      "cell_type": "markdown",
      "source": [
        "#Class repartition"
      ],
      "metadata": {
        "id": "9TSt9t4hdcsP"
      }
    },
    {
      "cell_type": "code",
      "source": [
        "import seaborn as sns\n",
        "import matplotlib.pyplot as plt\n",
        "\n",
        "sns.countplot(x='rating', data=df)\n",
        "plt.title('Class Distribution')\n",
        "plt.xlabel('Rating')\n",
        "plt.ylabel('Count')\n",
        "plt.show()\n"
      ],
      "metadata": {
        "colab": {
          "base_uri": "https://localhost:8080/",
          "height": 472
        },
        "id": "UJ7jS9A2ctps",
        "outputId": "0f9d7b24-70f4-45a1-a112-3537a1293562"
      },
      "execution_count": 32,
      "outputs": [
        {
          "output_type": "display_data",
          "data": {
            "text/plain": [
              "<Figure size 640x480 with 1 Axes>"
            ],
            "image/png": "[encoded data removed]"
          },
          "metadata": {}
        }
      ]
    },
    {
      "cell_type": "markdown",
      "source": [
        "Since rating 4 doesn't exist and ratings 3 and 5 are unbalanced compared to 1 and 2, we will merge ratings 1 and 2 into 1, as they both represent bad ratings."
      ],
      "metadata": {
        "id": "8fNxFrHcdpGG"
      }
    },
    {
      "cell_type": "code",
      "source": [
        "df['rating'] = df['rating'].replace({2: 1})\n"
      ],
      "metadata": {
        "id": "_oHx6br_eOGc"
      },
      "execution_count": 33,
      "outputs": []
    },
    {
      "cell_type": "code",
      "source": [
        "sns.countplot(x='rating', data=df)\n",
        "plt.title('Class Distribution')\n",
        "plt.xlabel('Rating')\n",
        "plt.ylabel('Count')\n",
        "plt.show()\n"
      ],
      "metadata": {
        "colab": {
          "base_uri": "https://localhost:8080/",
          "height": 472
        },
        "id": "Ze1nyJQ1eQH6",
        "outputId": "b7746e04-c76c-46bd-81e1-bd0b698fda76"
      },
      "execution_count": 34,
      "outputs": [
        {
          "output_type": "display_data",
          "data": {
            "text/plain": [
              "<Figure size 640x480 with 1 Axes>"
            ],
            "image/png": "[encoded data removed]"
          },
          "metadata": {}
        }
      ]
    },
    {
      "cell_type": "markdown",
      "metadata": {
        "id": "TXIQ9hzb2liZ"
      },
      "source": [
        "#Text Preprocessing\n"
      ]
    },
    {
      "cell_type": "markdown",
      "source": [
        "##Deletion of special characters and punctuation signs"
      ],
      "metadata": {
        "id": "D-WePVawPR5a"
      }
    },
    {
      "cell_type": "code",
      "source": [
        "import re\n",
        "\n",
        "# Cleaning function\n",
        "def clean_text(text):\n",
        "    text = text.lower()\n",
        "    cleaned_text = re.sub(r'[^\\w\\s]', '', text)\n",
        "    return cleaned_text\n",
        "\n",
        "df['cleaned_review_text'] = df[\"review_text\"].apply(clean_text)\n",
        "\n",
        "print(df.head(10))"
      ],
      "metadata": {
        "colab": {
          "base_uri": "https://localhost:8080/"
        },
        "id": "5Eh_k3l9PQb5",
        "outputId": "642ef051-a2f2-4d69-d431-d320710afca7"
      },
      "execution_count": 37,
      "outputs": [
        {
          "output_type": "stream",
          "name": "stdout",
          "text": [
            "                                      title  rating  \\\n",
            "0                       IMPOSIBLE DESCANSAR       1   \n",
            "1              No es oro todo lo que reluce       3   \n",
            "2            Un buen hotel con mucho ruido.       3   \n",
            "3      SIN CALEFACCIÓN OPERATIVA Y CON FRÍO       1   \n",
            "4                 Deja bastante que desear.       1   \n",
            "5                    Desastre de ascensores       1   \n",
            "6                             Mal mal y mal       1   \n",
            "7                      Suciedad intolerable       1   \n",
            "8                                Lamentable       1   \n",
            "9  Sigo aquí pero quiero cambiarme de hotel       1   \n",
            "\n",
            "                                         review_text  \\\n",
            "0  El fin de semana mi pareja y yo hicimos una re...   \n",
            "1  El hotel en general está bien, las habtiacione...   \n",
            "2  El hotel es moderno, amplio y limpio, pero no ...   \n",
            "3  Calefacción averiada o no operativa. Se coment...   \n",
            "4  Este hotel ha bajado notoriamente su categoria...   \n",
            "5  Son pequeños, se bloquean y son insuficientes ...   \n",
            "6  Mal mal y mal. Una enorme diferencia de trato ...   \n",
            "7  Jamás me he encontrado un nivel de suciedad co...   \n",
            "8  Lamentable elegir un hotel de cuatro estrellas...   \n",
            "9  El hotel fantástico. Los desayunos  muy buenos...   \n",
            "\n",
            "                                 cleaned_review_text  \n",
            "0  el fin de semana mi pareja y yo hicimos una re...  \n",
            "1  el hotel en general está bien las habtiaciones...  \n",
            "2  el hotel es moderno amplio y limpio pero no he...  \n",
            "3  calefacción averiada o no operativa se comenta...  \n",
            "4  este hotel ha bajado notoriamente su categoria...  \n",
            "5  son pequeños se bloquean y son insuficientes p...  \n",
            "6  mal mal y mal una enorme diferencia de trato c...  \n",
            "7  jamás me he encontrado un nivel de suciedad co...  \n",
            "8  lamentable elegir un hotel de cuatro estrellas...  \n",
            "9  el hotel fantástico los desayunos  muy buenos ...  \n"
          ]
        }
      ]
    },
    {
      "cell_type": "markdown",
      "source": [
        "##Deletion of foreign language words in the cvs and stopwords"
      ],
      "metadata": {
        "id": "2exp-4b_MWZR"
      }
    },
    {
      "cell_type": "code",
      "source": [
        "import nltk\n",
        "from nltk.tokenize.toktok import ToktokTokenizer\n",
        "from nltk.corpus import stopwords\n",
        "from langdetect import detect, DetectorFactory\n",
        "import string\n",
        "\n",
        "\n",
        "nltk.download('punkt')\n",
        "DetectorFactory.seed = 0\n",
        "tokenizer = ToktokTokenizer()\n",
        "spanish_stopwords = set(stopwords.words('spanish'))\n",
        "punctuation = set(string.punctuation)\n",
        "def detect_and_tokenize(text):\n",
        "    try:\n",
        "        lang = detect(text)\n",
        "        if lang == 'es':\n",
        "            tokens = tokenizer.tokenize(text)\n",
        "            filtered_tokens = [\n",
        "                token.lower()\n",
        "                for token in tokens\n",
        "                if token.lower() not in spanish_stopwords\n",
        "                and token not in punctuation\n",
        "            ]\n",
        "            return filtered_tokens\n",
        "        else:\n",
        "            return ''  # Returns empty if not in spanish\n",
        "    except:\n",
        "        return ''\n",
        "\n",
        "df['cleaned_review_text'] = df['review_text'].apply(detect_and_tokenize)\n",
        "\n",
        "# Elimination of empty rows\n",
        "df = df[df['cleaned_review_text'] != '']\n",
        "\n",
        "print(df.shape)\n",
        "print(df.head(20))\n"
      ],
      "metadata": {
        "colab": {
          "base_uri": "https://localhost:8080/"
        },
        "id": "7R1kJFiA3mWd",
        "outputId": "bf737bbb-ea8b-4f70-dbf5-fae3299d9bdf"
      },
      "execution_count": 38,
      "outputs": [
        {
          "output_type": "stream",
          "name": "stderr",
          "text": [
            "[nltk_data] Downloading package punkt to /root/nltk_data...\n",
            "[nltk_data]   Package punkt is already up-to-date!\n"
          ]
        },
        {
          "output_type": "stream",
          "name": "stdout",
          "text": [
            "(7520, 4)\n",
            "                                                title  rating  \\\n",
            "0                                 IMPOSIBLE DESCANSAR       1   \n",
            "1                        No es oro todo lo que reluce       3   \n",
            "2                      Un buen hotel con mucho ruido.       3   \n",
            "3                SIN CALEFACCIÓN OPERATIVA Y CON FRÍO       1   \n",
            "4                           Deja bastante que desear.       1   \n",
            "5                              Desastre de ascensores       1   \n",
            "6                                       Mal mal y mal       1   \n",
            "7                                Suciedad intolerable       1   \n",
            "8                                          Lamentable       1   \n",
            "9            Sigo aquí pero quiero cambiarme de hotel       1   \n",
            "10                            Precio desproporcionado       3   \n",
            "11  SEVILLA CENTER, UN DISGUSTO EN EL CENTRO DE SE...       1   \n",
            "12                            No comáis en la piscina       3   \n",
            "13                                           Estancia       3   \n",
            "14                           Más errores que aciertos       1   \n",
            "15                    Ruido insoportable de discoteca       1   \n",
            "16                      Todo fabuloso , hasta que vas       1   \n",
            "17                            Muy caro para lo que es       1   \n",
            "18                                     No recomendado       1   \n",
            "19                                   Estancia 1 noche       3   \n",
            "\n",
            "                                          review_text  \\\n",
            "0   El fin de semana mi pareja y yo hicimos una re...   \n",
            "1   El hotel en general está bien, las habtiacione...   \n",
            "2   El hotel es moderno, amplio y limpio, pero no ...   \n",
            "3   Calefacción averiada o no operativa. Se coment...   \n",
            "4   Este hotel ha bajado notoriamente su categoria...   \n",
            "5   Son pequeños, se bloquean y son insuficientes ...   \n",
            "6   Mal mal y mal. Una enorme diferencia de trato ...   \n",
            "7   Jamás me he encontrado un nivel de suciedad co...   \n",
            "8   Lamentable elegir un hotel de cuatro estrellas...   \n",
            "9   El hotel fantástico. Los desayunos  muy buenos...   \n",
            "10  Fuimos de vacaciones y pasamos solo 1 noche a ...   \n",
            "11  Sevilla Center, un disgusto en pleno centro de...   \n",
            "12  La habitación, la piscina  y el personal muy b...   \n",
            "13  Estancia normal, por debajo de las expectativa...   \n",
            "14  Una experiencia muy agridulce, por no decir pé...   \n",
            "15  Debajo de la habitación 304 hay una terraza de...   \n",
            "16  Asi fue , todo muy bonito fotos , experiencias...   \n",
            "17  Al llegar, mientras esperábamos para hacer el ...   \n",
            "18  Fuimos a una oposición y escogimos este hotel ...   \n",
            "19  En términos generales el hotel está bien. Las ...   \n",
            "\n",
            "                                  cleaned_review_text  \n",
            "0   [fin, semana, pareja, hicimos, reserva, hotel,...  \n",
            "1   [hotel, general, bien, habtiaciones, espaciosa...  \n",
            "2   [hotel, moderno, amplio, limpio, podido, disfr...  \n",
            "3   [calefacción, averiada, operativa., comenta, r...  \n",
            "4   [hotel, bajado, notoriamente, categoria., habi...  \n",
            "5   [pequeños, bloquean, insuficientes, tamaño, ho...  \n",
            "6   [mal, mal, mal., enorme, diferencia, trato, fa...  \n",
            "7   [jamás, encontrado, nivel, suciedad, hotel., h...  \n",
            "8   [lamentable, elegir, hotel, cuatro, estrellas,...  \n",
            "9   [hotel, fantástico., desayunos, buenos, recepc...  \n",
            "10  [vacaciones, pasamos, solo, 1, noche, sevilla,...  \n",
            "11  [sevilla, center, disgusto, pleno, centro, sev...  \n",
            "12  [habitación, piscina, personal, bien, bar, pis...  \n",
            "13  [estancia, normal, debajo, expectativas, frío,...  \n",
            "14  [experiencia, agridulce, decir, pésima., llega...  \n",
            "15  [debajo, habitación, 304, terraza, discoteca.,...  \n",
            "16  [asi, bonito, fotos, experiencias, entras, per...  \n",
            "17  [llegar, mientras, esperábamos, hacer, checkin...  \n",
            "18  [oposición, escogimos, hotel, cercanía, prueba...  \n",
            "19  [términos, generales, hotel, bien., habitacion...  \n"
          ]
        }
      ]
    },
    {
      "cell_type": "markdown",
      "source": [
        "##Lematization"
      ],
      "metadata": {
        "id": "Mr3Ps-Hp3Ztt"
      }
    },
    {
      "cell_type": "code",
      "execution_count": 39,
      "metadata": {
        "colab": {
          "base_uri": "https://localhost:8080/"
        },
        "id": "CNqVoGKWndjd",
        "outputId": "02625377-196d-47ea-a96e-9c8a32f748dc"
      },
      "outputs": [
        {
          "output_type": "stream",
          "name": "stdout",
          "text": [
            "                                                title  rating  \\\n",
            "0                                 IMPOSIBLE DESCANSAR       1   \n",
            "1                        No es oro todo lo que reluce       3   \n",
            "2                      Un buen hotel con mucho ruido.       3   \n",
            "3                SIN CALEFACCIÓN OPERATIVA Y CON FRÍO       1   \n",
            "4                           Deja bastante que desear.       1   \n",
            "5                              Desastre de ascensores       1   \n",
            "6                                       Mal mal y mal       1   \n",
            "7                                Suciedad intolerable       1   \n",
            "8                                          Lamentable       1   \n",
            "9            Sigo aquí pero quiero cambiarme de hotel       1   \n",
            "10                            Precio desproporcionado       3   \n",
            "11  SEVILLA CENTER, UN DISGUSTO EN EL CENTRO DE SE...       1   \n",
            "12                            No comáis en la piscina       3   \n",
            "13                                           Estancia       3   \n",
            "14                           Más errores que aciertos       1   \n",
            "15                    Ruido insoportable de discoteca       1   \n",
            "16                      Todo fabuloso , hasta que vas       1   \n",
            "17                            Muy caro para lo que es       1   \n",
            "18                                     No recomendado       1   \n",
            "19                                   Estancia 1 noche       3   \n",
            "\n",
            "                                          review_text  \\\n",
            "0   El fin de semana mi pareja y yo hicimos una re...   \n",
            "1   El hotel en general está bien, las habtiacione...   \n",
            "2   El hotel es moderno, amplio y limpio, pero no ...   \n",
            "3   Calefacción averiada o no operativa. Se coment...   \n",
            "4   Este hotel ha bajado notoriamente su categoria...   \n",
            "5   Son pequeños, se bloquean y son insuficientes ...   \n",
            "6   Mal mal y mal. Una enorme diferencia de trato ...   \n",
            "7   Jamás me he encontrado un nivel de suciedad co...   \n",
            "8   Lamentable elegir un hotel de cuatro estrellas...   \n",
            "9   El hotel fantástico. Los desayunos  muy buenos...   \n",
            "10  Fuimos de vacaciones y pasamos solo 1 noche a ...   \n",
            "11  Sevilla Center, un disgusto en pleno centro de...   \n",
            "12  La habitación, la piscina  y el personal muy b...   \n",
            "13  Estancia normal, por debajo de las expectativa...   \n",
            "14  Una experiencia muy agridulce, por no decir pé...   \n",
            "15  Debajo de la habitación 304 hay una terraza de...   \n",
            "16  Asi fue , todo muy bonito fotos , experiencias...   \n",
            "17  Al llegar, mientras esperábamos para hacer el ...   \n",
            "18  Fuimos a una oposición y escogimos este hotel ...   \n",
            "19  En términos generales el hotel está bien. Las ...   \n",
            "\n",
            "                                  cleaned_review_text  \n",
            "0   [fin, semana, parejo, hicimo, reserva, hotel, ...  \n",
            "1   [hotel, general, bien, habtiación, espaciosa, ...  \n",
            "2   [hotel, moderno, amplio, limpio, poder, disfru...  \n",
            "3   [calefacción, averiado, operativo, ., comentar...  \n",
            "4   [hotel, bajado, notoriamente, categorio, ., ha...  \n",
            "5   [pequeño, bloquear, insuficiente, tamaño, hote...  \n",
            "6   [mal, mal, mal, ., enorme, diferencia, trato, ...  \n",
            "7   [jamás, encontrado, nivel, suciedad, hotel, .,...  \n",
            "8   [lamentable, elegir, hotel, cuatro, estrella, ...  \n",
            "9   [hotel, fantástico, ., desayuno, buen, recepci...  \n",
            "10  [vacación, pasar, solo, 1, noche, sevillo, exp...  \n",
            "11  [sevillar, center, disgusto, pleno, centro, se...  \n",
            "12  [habitación, piscinar, personal, bien, bar, pi...  \n",
            "13  [estancia, normal, debajo, expectativa, frío, ...  \n",
            "14  [experiencia, agridulce, decir, pésima, ., lle...  \n",
            "15  [debajo, habitación, 304, terrazar, discoteca,...  \n",
            "16  [asi, bonito, foto, experiencia, entra, person...  \n",
            "17  [llegar, mientras, esperábar, hacer, checking,...  \n",
            "18  [oposición, escoger, hotel, cercanir, prueba, ...  \n",
            "19  [término, general, hotel, bien, ., habitación,...  \n"
          ]
        }
      ],
      "source": [
        "import spacy\n",
        "nlp = spacy.load('es_core_news_sm')\n",
        "\n",
        "reviews = df[\"cleaned_review_text\"]\n",
        "\n",
        "df['cleaned_review_text'] = df['cleaned_review_text'].apply(lambda x: [token.lemma_ for token in nlp(' '.join(x))])\n",
        "\n",
        "print(df.head(20))"
      ]
    },
    {
      "cell_type": "markdown",
      "source": [
        "#Grid Search for SVM\n"
      ],
      "metadata": {
        "id": "xDtDmuVTTHjL"
      }
    },
    {
      "cell_type": "code",
      "source": [
        "df['cleaned_review_text'] = df['cleaned_review_text'].apply(lambda x: ' '.join(x))"
      ],
      "metadata": {
        "id": "N7zajUiQWhRb"
      },
      "execution_count": 40,
      "outputs": []
    },
    {
      "cell_type": "code",
      "source": [
        "from sklearn.feature_extraction.text import TfidfVectorizer\n",
        "from sklearn.model_selection import train_test_split, GridSearchCV\n",
        "from sklearn.svm import SVC\n",
        "from sklearn.pipeline import Pipeline\n",
        "from sklearn.metrics import accuracy_score, confusion_matrix\n",
        "import seaborn as sns\n",
        "import matplotlib.pyplot as plt\n",
        "from nltk.corpus import stopwords\n",
        "import nltk\n",
        "nltk.download('stopwords')\n",
        "\n",
        "stop_words_es = stopwords.words('spanish')\n",
        "# Get labels\n",
        "y = df['rating']\n",
        "\n",
        "# training split\n",
        "X_train, X_test, y_train, y_test = train_test_split(df['cleaned_review_text'], y, test_size=0.2, random_state=42)\n",
        "\n",
        "#Pipeline of tfif and svm\n",
        "pipeline = Pipeline([\n",
        "    ('tfidf', TfidfVectorizer()),\n",
        "    ('svm', SVC(random_state=42))\n",
        "])\n",
        "\n",
        "\n",
        "param_grid = {\n",
        "    'tfidf__min_df': [1, 5],\n",
        "    'tfidf__max_df': [0.7, 0.8, 1.0],\n",
        "\n",
        "\n",
        "    'svm__C': [1, 10],\n",
        "    'svm__kernel': ['linear'],\n",
        "}\n",
        "\n",
        "grid = GridSearchCV(pipeline, param_grid, cv=5, scoring='accuracy', n_jobs=-1, verbose=1)\n",
        "grid.fit(X_train, y_train)\n",
        "\n",
        "\n",
        "# Get best params\n",
        "print(f\"Mejores parámetros: {grid.best_params_}\")\n",
        "\n",
        "# Make predictions with the best paramm\n",
        "y_pred = grid.best_estimator_.predict(X_test)\n",
        "\n",
        "# Final accuracy\n",
        "accuracy = accuracy_score(y_test, y_pred)\n",
        "print(f\"Accuracy: {accuracy:.2f}\")\n",
        "\n",
        "conf_matrix = confusion_matrix(y_test, y_pred)\n",
        "\n",
        "# Plooting matrix\n",
        "plt.figure(figsize=(8, 6))\n",
        "sns.heatmap(conf_matrix, annot=True, fmt='d', cmap='Blues', xticklabels=['Clase 0', 'Clase 1'], yticklabels=['Clase 0', 'Clase 1'])\n",
        "plt.xlabel('Predicción')\n",
        "plt.ylabel('Valor Real')\n",
        "plt.title('Matriz de Confusión')\n",
        "plt.show()\n"
      ],
      "metadata": {
        "colab": {
          "base_uri": "https://localhost:8080/",
          "height": 651
        },
        "id": "WvCn2KsNUkH8",
        "outputId": "0dc8bf5c-6c10-43dd-daa3-0669731005da"
      },
      "execution_count": 41,
      "outputs": [
        {
          "output_type": "stream",
          "name": "stdout",
          "text": [
            "Fitting 5 folds for each of 12 candidates, totalling 60 fits\n"
          ]
        },
        {
          "output_type": "stream",
          "name": "stderr",
          "text": [
            "[nltk_data] Downloading package stopwords to /root/nltk_data...\n",
            "[nltk_data]   Package stopwords is already up-to-date!\n"
          ]
        },
        {
          "output_type": "stream",
          "name": "stdout",
          "text": [
            "Mejores parámetros: {'svm__C': 1, 'svm__kernel': 'linear', 'tfidf__max_df': 0.7, 'tfidf__min_df': 1}\n",
            "Accuracy: 0.86\n"
          ]
        },
        {
          "output_type": "display_data",
          "data": {
            "text/plain": [
              "<Figure size 800x600 with 2 Axes>"
            ],
            "image/png": "[encoded data removed]"
          },
          "metadata": {}
        }
      ]
    },
    {
      "cell_type": "markdown",
      "source": [
        "#Naive Bayes grid search"
      ],
      "metadata": {
        "id": "WpQB9CcHdBLH"
      }
    },
    {
      "cell_type": "code",
      "source": [
        "from sklearn.feature_extraction.text import TfidfVectorizer\n",
        "from sklearn.model_selection import train_test_split, GridSearchCV\n",
        "from sklearn.naive_bayes import MultinomialNB\n",
        "from sklearn.pipeline import Pipeline\n",
        "from sklearn.metrics import accuracy_score, confusion_matrix\n",
        "import seaborn as sns\n",
        "import matplotlib.pyplot as plt\n",
        "from nltk.corpus import stopwords\n",
        "import nltk\n",
        "\n",
        "\n",
        "# Get labels\n",
        "y = df['rating']\n",
        "\n",
        "# Train-test split\n",
        "X_train, X_test, y_train, y_test = train_test_split(df['cleaned_review_text'], y, test_size=0.2, random_state=42)\n",
        "\n",
        "# Pipeline with Tfidf and Naive Bayes\n",
        "pipeline = Pipeline([\n",
        "    ('tfidf', TfidfVectorizer()),\n",
        "    ('nb', MultinomialNB())\n",
        "])\n",
        "\n",
        "# Parameter grid for GridSearchCV\n",
        "param_grid = {\n",
        "    'tfidf__min_df': [1, 5, 10],\n",
        "    'tfidf__max_df': [0.7, 0.8, 1.0],\n",
        "    'nb__alpha': [1.0, 0.1],\n",
        "}\n",
        "\n",
        "# GridSearchCV to find the best parameters\n",
        "grid = GridSearchCV(pipeline, param_grid, cv=5, scoring='accuracy', n_jobs=-1, verbose=1)\n",
        "grid.fit(X_train, y_train)\n",
        "\n",
        "# Get the best parameters\n",
        "print(f\"Best parameters: {grid.best_params_}\")\n",
        "\n",
        "# Make predictions with the best model\n",
        "y_pred = grid.best_estimator_.predict(X_test)\n",
        "\n",
        "# Evaluate the accuracy\n",
        "accuracy = accuracy_score(y_test, y_pred)\n",
        "print(f\"Accuracy: {accuracy:.2f}\")\n",
        "\n",
        "\n",
        "conf_matrix = confusion_matrix(y_test, y_pred)\n",
        "\n",
        "# Plot the confusion matrix\n",
        "plt.figure(figsize=(8, 6))\n",
        "sns.heatmap(conf_matrix, annot=True, fmt='d', cmap='Blues', xticklabels=['Class 0', 'Class 1'], yticklabels=['Class 0', 'Class 1'])\n",
        "plt.xlabel('Prediction')\n",
        "plt.ylabel('True Value')\n",
        "plt.title('Confusion Matrix')\n",
        "plt.show()\n"
      ],
      "metadata": {
        "colab": {
          "base_uri": "https://localhost:8080/",
          "height": 616
        },
        "id": "IHHpjO57dGRh",
        "outputId": "eb5ccec1-d544-4ff8-bd44-581406b2abde"
      },
      "execution_count": 42,
      "outputs": [
        {
          "output_type": "stream",
          "name": "stdout",
          "text": [
            "Fitting 5 folds for each of 18 candidates, totalling 90 fits\n",
            "Best parameters: {'nb__alpha': 0.1, 'tfidf__max_df': 0.7, 'tfidf__min_df': 1}\n",
            "Accuracy: 0.86\n"
          ]
        },
        {
          "output_type": "display_data",
          "data": {
            "text/plain": [
              "<Figure size 800x600 with 2 Axes>"
            ],
            "image/png": "[encoded data removed]"
          },
          "metadata": {}
        }
      ]
    },
    {
      "cell_type": "markdown",
      "source": [
        "##K-NN grid search\n"
      ],
      "metadata": {
        "id": "q6CiWY1wfkp2"
      }
    },
    {
      "cell_type": "code",
      "source": [
        "from sklearn.feature_extraction.text import TfidfVectorizer\n",
        "from sklearn.model_selection import train_test_split, GridSearchCV\n",
        "from sklearn.neighbors import KNeighborsClassifier  # Import KNN\n",
        "from sklearn.pipeline import Pipeline\n",
        "from sklearn.metrics import accuracy_score, confusion_matrix\n",
        "import seaborn as sns\n",
        "import matplotlib.pyplot as plt\n",
        "from nltk.corpus import stopwords\n",
        "import nltk\n",
        "\n",
        "# Get labels\n",
        "y = df['rating']\n",
        "\n",
        "# Train-test split\n",
        "X_train, X_test, y_train, y_test = train_test_split(df['cleaned_review_text'], y, test_size=0.2, random_state=42)\n",
        "\n",
        "# Pipeline with Tfidf and KNN\n",
        "pipeline = Pipeline([\n",
        "    ('tfidf', TfidfVectorizer()),\n",
        "    ('knn', KNeighborsClassifier())\n",
        "])\n",
        "\n",
        "# Parameter grid f\n",
        "param_grid = {\n",
        "    'tfidf__min_df': [1, 5],\n",
        "    'tfidf__max_df': [0.7, 0.8, 1.0],\n",
        "    'knn__n_neighbors': [3, 5, 7],\n",
        "    'knn__weights': ['uniform', 'distance'],\n",
        "}\n",
        "\n",
        "# GridSearchCV to find the best parameters\n",
        "grid = GridSearchCV(pipeline, param_grid, cv=5, scoring='accuracy', n_jobs=-1, verbose=1)\n",
        "grid.fit(X_train, y_train)\n",
        "\n",
        "# Get the best parameters\n",
        "print(f\"Best parameters: {grid.best_params_}\")\n",
        "\n",
        "# Make predictions with the best model\n",
        "y_pred = grid.best_estimator_.predict(X_test)\n",
        "\n",
        "# Evaluate the accuracy\n",
        "accuracy = accuracy_score(y_test, y_pred)\n",
        "print(f\"Accuracy: {accuracy:.2f}\")\n",
        "\n",
        "\n",
        "conf_matrix = confusion_matrix(y_test, y_pred)\n",
        "\n",
        "# Plot confusion matrix\n",
        "plt.figure(figsize=(8, 6))\n",
        "sns.heatmap(conf_matrix, annot=True, fmt='d', cmap='Blues', xticklabels=['Positive', 'Neutral', 'Negative'], yticklabels=['Positive', 'Neutral', 'Negative'])\n",
        "plt.xlabel('Prediction')\n",
        "plt.ylabel('True Value')\n",
        "plt.title('Confusion Matrix')\n",
        "plt.show()\n"
      ],
      "metadata": {
        "colab": {
          "base_uri": "https://localhost:8080/",
          "height": 616
        },
        "id": "ZdIojtKWfpFr",
        "outputId": "6e648e82-cb70-46cd-fd62-9fd978d98e5b"
      },
      "execution_count": 43,
      "outputs": [
        {
          "output_type": "stream",
          "name": "stdout",
          "text": [
            "Fitting 5 folds for each of 36 candidates, totalling 180 fits\n",
            "Best parameters: {'knn__n_neighbors': 7, 'knn__weights': 'distance', 'tfidf__max_df': 0.7, 'tfidf__min_df': 5}\n",
            "Accuracy: 0.79\n"
          ]
        },
        {
          "output_type": "display_data",
          "data": {
            "text/plain": [
              "<Figure size 800x600 with 2 Axes>"
            ],
            "image/png": "[encoded data removed]"
          },
          "metadata": {}
        }
      ]
    }
  ],
  "metadata": {
    "colab": {
      "provenance": []
    },
    "kernelspec": {
      "display_name": "Python 3",
      "name": "python3"
    },
    "language_info": {
      "name": "python"
    }
  },
  "nbformat": 4,
  "nbformat_minor": 0
}