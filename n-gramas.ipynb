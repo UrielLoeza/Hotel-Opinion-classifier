{
  "nbformat": 4,
  "nbformat_minor": 0,
  "metadata": {
    "colab": {
      "provenance": []
    },
    "kernelspec": {
      "name": "python3",
      "display_name": "Python 3"
    },
    "language_info": {
      "name": "python"
    }
  },
  "cells": [
    {
      "cell_type": "code",
      "execution_count": null,
      "metadata": {
        "id": "CW5qzsjphLLI",
        "colab": {
          "base_uri": "https://localhost:8080/"
        },
        "outputId": "c1363105-f9b9-450c-ac6c-bd85161ac87c"
      },
      "outputs": [
        {
          "output_type": "stream",
          "name": "stdout",
          "text": [
            "                                      title  rating  \\\n",
            "0                       IMPOSIBLE DESCANSAR       1   \n",
            "1              No es oro todo lo que reluce       5   \n",
            "2            Un buen hotel con mucho ruido.       5   \n",
            "3      SIN CALEFACCIÓN OPERATIVA Y CON FRÍO       1   \n",
            "4                 Deja bastante que desear.       1   \n",
            "5                    Desastre de ascensores       1   \n",
            "6                             Mal mal y mal       1   \n",
            "7                      Suciedad intolerable       1   \n",
            "8                                Lamentable       1   \n",
            "9  Sigo aquí pero quiero cambiarme de hotel       1   \n",
            "\n",
            "                                 cleaned_review_text  \n",
            "0  fin semana parejo hicimo reserva hotel fin des...  \n",
            "1  hotel general bien habtiación espaciosa person...  \n",
            "2  hotel moderno amplio limpio no poder disfrutar...  \n",
            "3  calefacción averiado no operativo comentar rec...  \n",
            "4  hotel bajado notoriamente categorio habitación...  \n",
            "5  pequeño bloquear insuficiente tamaño hotel may...  \n",
            "6  mal mal mal enorme diferencia trato familia tr...  \n",
            "7  jamás encontrado nivel suciedad hotel hostal e...  \n",
            "8  lamentable elegir hotel cuatro estrella adjudi...  \n",
            "9  hotel fantástico desayuno buen recepcionista l...  \n"
          ]
        }
      ],
      "source": [
        "import pandas as pd\n",
        "df = pd.read_csv('filtered_balanced_AHR_constopcombined_bigrams.csv', usecols=['title', 'rating', 'cleaned_review_text'])\n",
        "print(df.head(10))"
      ]
    },
    {
      "cell_type": "code",
      "source": [
        "# Lista de bigramas positivos y negativos\n",
        "bigramas_positivos = [(\"personal\", \"amable\"), (\"calidad\", \"precio\"), (\"hotel\", \"no\"), (\"relación\", \"calidad\"), (\"hotel\",\"bien\"), (\"cama\",\"cómodo\"),(\"bien\",\"ubicado\"),(\"habitación\",\"limpio\"), (\"personal\",\"atento\"), (\"buen\",\"ubicación\"), (\"ubicación\", \"perfecto\"), (\"habitación\", \"bien\"), (\"personal\", \"agradable\"), (\"habitación\", \"grande\"), (\"bastante\", \"bien\"), (\"mejor\", \"hotel\"), (\"excelente\", \"ubicación\"), (\"buen\", \"hotel\")]\n",
        "bigramas_negativos = [(\"no\", \"poder\"), (\"bien\", \"situado\"), (\"no\", \"volver\"), (\"habitación\",\"amplio\"),(\"no\",\"funcionar\"),(\"no\",\"recomeir\"), (\"no\", \"dar\"), (\"no\",\"saber\"), (\"no\",\"hacer\"),(\"no\", \"ir\"), (\"dejar\", \"desear\"), (\"no\", \"dejar\"), (\"no\", \"ninguno\"), (\"no\", \"querer\"), (\"no\", \"quedar\"), (\"mal\", \"hotel\")]\n"
      ],
      "metadata": {
        "id": "NWHmI4G9h1F6"
      },
      "execution_count": null,
      "outputs": []
    },
    {
      "cell_type": "code",
      "source": [
        "from nltk import bigrams\n",
        "from nltk.tokenize import word_tokenize\n",
        "\n",
        "# Función para detectar bigramas en un texto\n",
        "def detectar_bigramas(texto, bigramas_positivos, bigramas_negativos):\n",
        "    # Tokenizar el texto\n",
        "    tokens = word_tokenize(texto.lower())\n",
        "\n",
        "    # Generar bigramas del texto\n",
        "    bigramas_texto = list(bigrams(tokens))\n",
        "\n",
        "    # Contar bigramas positivos y negativos\n",
        "    positivos_detectados = [b for b in bigramas_texto if b in bigramas_positivos]\n",
        "    negativos_detectados = [b for b in bigramas_texto if b in bigramas_negativos]\n",
        "\n",
        "    return len(positivos_detectados), len(negativos_detectados)\n",
        "\n",
        "# Aplicar la función a cada fila del DataFrame\n",
        "df['positivos_detectados'], df['negativos_detectados'] = zip(*df['cleaned_review_text'].apply(\n",
        "    lambda texto: detectar_bigramas(texto, bigramas_positivos, bigramas_negativos)))\n",
        "\n",
        "# Mostrar el DataFrame con los resultados\n",
        "print(df)\n",
        "\n",
        "# Guardar el DataFrame con las dos columnas de positivos y negativos en un archivo CSV\n",
        "df[['positivos_detectados', 'negativos_detectados']].to_csv('bigrama_resultados.csv', index=False)\n",
        "\n",
        "# Mostrar el DataFrame con los resultados\n",
        "print(df[['positivos_detectados', 'negativos_detectados']])"
      ],
      "metadata": {
        "id": "BPEqZA4IlCaN",
        "colab": {
          "base_uri": "https://localhost:8080/"
        },
        "outputId": "5109dbe4-9517-4039-c09b-cec39fa6f8a2"
      },
      "execution_count": null,
      "outputs": [
        {
          "output_type": "stream",
          "name": "stdout",
          "text": [
            "                                       title  rating  \\\n",
            "0                        IMPOSIBLE DESCANSAR       1   \n",
            "1               No es oro todo lo que reluce       5   \n",
            "2             Un buen hotel con mucho ruido.       5   \n",
            "3       SIN CALEFACCIÓN OPERATIVA Y CON FRÍO       1   \n",
            "4                  Deja bastante que desear.       1   \n",
            "...                                      ...     ...   \n",
            "7515                          Excelente !!!        5   \n",
            "7516          Muy acogedor y excelente trato       5   \n",
            "7517                              Genial !!!       5   \n",
            "7518  HOTEL EXCELENTE ASÍ COMO SUS EMPLEADOS       5   \n",
            "7519         Muy buen hotel, recien abierto.       5   \n",
            "\n",
            "                                    cleaned_review_text  positivos_detectados  \\\n",
            "0     fin semana parejo hicimo reserva hotel fin des...                     0   \n",
            "1     hotel general bien habtiación espaciosa person...                     1   \n",
            "2     hotel moderno amplio limpio no poder disfrutar...                     1   \n",
            "3     calefacción averiado no operativo comentar rec...                     0   \n",
            "4     hotel bajado notoriamente categorio habitación...                     0   \n",
            "...                                                 ...                   ...   \n",
            "7515  experiencia increíble súper recomendable gente...                     0   \n",
            "7516  trato amable atento momento habitación acogedo...                     0   \n",
            "7517  hotel fantastico buen ubicacion bonito acogedo...                     0   \n",
            "7518  alojado esposa hotel eurostars cuatro día prim...                     0   \n",
            "7519  bastante cerca centro sevillar servicio esmera...                     0   \n",
            "\n",
            "      negativos_detectados  \n",
            "0                        0  \n",
            "1                        0  \n",
            "2                        3  \n",
            "3                        1  \n",
            "4                        0  \n",
            "...                    ...  \n",
            "7515                     0  \n",
            "7516                     0  \n",
            "7517                     0  \n",
            "7518                     0  \n",
            "7519                     0  \n",
            "\n",
            "[7520 rows x 5 columns]\n",
            "      positivos_detectados  negativos_detectados\n",
            "0                        0                     0\n",
            "1                        1                     0\n",
            "2                        1                     3\n",
            "3                        0                     1\n",
            "4                        0                     0\n",
            "...                    ...                   ...\n",
            "7515                     0                     0\n",
            "7516                     0                     0\n",
            "7517                     0                     0\n",
            "7518                     0                     0\n",
            "7519                     0                     0\n",
            "\n",
            "[7520 rows x 2 columns]\n"
          ]
        }
      ]
    },
    {
      "cell_type": "code",
      "source": [
        "import nltk\n",
        "import pandas as pd\n",
        "from collections import Counter\n",
        "from nltk import bigrams\n",
        "from nltk.tokenize import word_tokenize\n",
        "nltk.download('punkt')\n",
        "\n",
        "\n",
        "# Función mejorada para limpiar y extraer bigramas\n",
        "def obtener_bigramas_limpios(df, columna_texto):\n",
        "    bigramas_totales = Counter()\n",
        "\n",
        "    # Procesar cada fila de la columna de texto\n",
        "    for texto in df[columna_texto].dropna():\n",
        "        # Limpiar el texto y tokenizar con split\n",
        "        tokens = [word for word in texto.lower().split() if word.strip()]\n",
        "\n",
        "        # Generar los bigramas del texto\n",
        "        bigramas_texto = list(bigrams(tokens))\n",
        "\n",
        "        # Actualizar el contador con los bigramas\n",
        "        bigramas_totales.update(bigramas_texto)\n",
        "\n",
        "    # Obtener los 100 bigramas más comunes\n",
        "    bigramas_top_100 = bigramas_totales.most_common(100)\n",
        "\n",
        "    # Crear un DataFrame con los resultados\n",
        "    df_bigrams_top_100 = pd.DataFrame(bigramas_top_100, columns=[\"Bigrama\", \"Frecuencia\"])\n",
        "\n",
        "    return df_bigrams_top_100\n",
        "\n",
        "# Cargar el archivo CSV\n",
        "df = pd.read_csv('filtered_balanced_AHR_constopcombined_bigrams.csv')\n",
        "\n",
        "# Llamar a la función para obtener los bigramas más comunes\n",
        "df_bigrams = obtener_bigramas_limpios(df, 'cleaned_review_text')\n",
        "\n",
        "# Guardar el resultado en un archivo CSV\n",
        "df_bigrams.to_csv('Top_100_Bigramas_Limpios.csv', index=False)\n",
        "\n",
        "# Mostrar el DataFrame resultante\n",
        "print(df_bigrams)"
      ],
      "metadata": {
        "id": "mW1v8kpHniJG",
        "colab": {
          "base_uri": "https://localhost:8080/"
        },
        "outputId": "2c8d7826-4fa1-4ec6-89b1-93d9f339a84a"
      },
      "execution_count": null,
      "outputs": [
        {
          "output_type": "stream",
          "name": "stderr",
          "text": [
            "[nltk_data] Downloading package punkt to /root/nltk_data...\n",
            "[nltk_data]   Package punkt is already up-to-date!\n"
          ]
        },
        {
          "output_type": "stream",
          "name": "stdout",
          "text": [
            "                  Bigrama  Frecuencia\n",
            "0             (no, poder)         886\n",
            "1      (personal, amable)         408\n",
            "2   (aire, acondicionado)         403\n",
            "3       (calidad, precio)         392\n",
            "4        (habitación, no)         331\n",
            "..                    ...         ...\n",
            "95       (agua, caliente)          84\n",
            "96         (poder, hacer)          82\n",
            "97      (parte, personal)          82\n",
            "98          (buen, hotel)          82\n",
            "99     (chico, recepción)          82\n",
            "\n",
            "[100 rows x 2 columns]\n"
          ]
        }
      ]
    }
  ]
}